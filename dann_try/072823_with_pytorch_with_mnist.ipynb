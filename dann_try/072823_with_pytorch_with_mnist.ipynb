{
 "cells": [
  {
   "cell_type": "code",
   "execution_count": 1,
   "metadata": {},
   "outputs": [],
   "source": [
    "from tqdm.notebook import tqdm\n",
    "import pandas as pd\n",
    "import numpy as np\n",
    "import matplotlib.pyplot as plt\n",
    "import torch\n",
    "import torchvision.transforms as transforms\n",
    "from torchvision.datasets import MNIST, SVHN\n",
    "import torch.utils.data as data_util"
   ]
  },
  {
   "cell_type": "code",
   "execution_count": 2,
   "metadata": {},
   "outputs": [
    {
     "name": "stdout",
     "output_type": "stream",
     "text": [
      "True\n"
     ]
    }
   ],
   "source": [
    "CUDA = torch.cuda.is_available()\n",
    "print(CUDA)\n",
    "device = torch.device('cuda:0' if CUDA else 'cpu')"
   ]
  },
  {
   "cell_type": "code",
   "execution_count": 3,
   "metadata": {},
   "outputs": [],
   "source": [
    "mnist_transform = transforms.Compose([\n",
    "    transforms.ToTensor(),\n",
    "    transforms.Normalize((0.5), (1.0))\n",
    "])\n",
    "\n",
    "svhn_transform = transforms.Compose([\n",
    "    transforms.Grayscale(num_output_channels=1),\n",
    "    transforms.CenterCrop(28),\n",
    "    transforms.ToTensor(),\n",
    "    transforms.Normalize((0.5),(1.0))\n",
    "])"
   ]
  },
  {
   "cell_type": "code",
   "execution_count": 4,
   "metadata": {},
   "outputs": [],
   "source": [
    "download_root = './data'\n",
    "\n",
    "train_mnist = MNIST(download_root, transform=mnist_transform, train=True, download=True)\n",
    "test_mnist = MNIST(download_root, transform=mnist_transform, train=False, download=True)"
   ]
  },
  {
   "cell_type": "code",
   "execution_count": 5,
   "metadata": {},
   "outputs": [
    {
     "name": "stdout",
     "output_type": "stream",
     "text": [
      "Using downloaded and verified file: ./data\\train_32x32.mat\n"
     ]
    }
   ],
   "source": [
    "svhn = SVHN(download_root, transform=svhn_transform, download=True)"
   ]
  },
  {
   "cell_type": "code",
   "execution_count": 6,
   "metadata": {},
   "outputs": [],
   "source": [
    "# target domain 데이터 train 6만개, test 1만개 활용\n",
    "train_indices = torch.arange(0, 60000)\n",
    "test_indices = torch.arange(60000,70000)\n",
    "train_svhn = data_util.Subset(svhn, train_indices)\n",
    "test_svhn = data_util.Subset(svhn, test_indices)"
   ]
  },
  {
   "cell_type": "markdown",
   "metadata": {},
   "source": [
    "### 모델 구조 선언"
   ]
  },
  {
   "cell_type": "code",
   "execution_count": 7,
   "metadata": {},
   "outputs": [],
   "source": [
    "import torch.nn as nn\n",
    "import torch.nn.functional as F"
   ]
  },
  {
   "cell_type": "code",
   "execution_count": 8,
   "metadata": {},
   "outputs": [],
   "source": [
    "class CNN(nn.Module):\n",
    "    def __init__(self):\n",
    "        super(CNN, self).__init__()\n",
    "        self.CNN1 = nn.Conv2d(in_channels=1, out_channels=10, kernel_size=5, stride=1)\n",
    "        self.CNN2 = nn.Conv2d(in_channels=10, out_channels=20, kernel_size=5, stride=1)\n",
    "        self.fc = nn.Linear(4 * 4 *20, 100)\n",
    "        \n",
    "    def forward(self, x):\n",
    "        x = F.relu(self.CNN1(x)) # (batch, 1, 28, 28) -> (batch, 10, 24, 24)\n",
    "        x = F.max_pool2d(x ,kernel_size=2, stride=2) # (batch, 10, 24, 24) -> (batch, 10, 12, 12)\n",
    "        x = F.relu(self.CNN2(x)) # (batch, 10, 12, 12) -> (batch, 20, 8, 8)\n",
    "        x = F.max_pool2d(x, kernel_size=2, stride=2) # (batch, 20, 8, 8) -> (batch, 20, 4, 4)\n",
    "        x = x.view(-1, 4 * 4 * 20) # (batch, 20, 4, 4) -> (batch, 320)\n",
    "        x = F.relu(self.fc(x)) # (batch, 320) -> (batch, 100)\n",
    "        return x # (batch, 100)"
   ]
  },
  {
   "cell_type": "code",
   "execution_count": 9,
   "metadata": {},
   "outputs": [],
   "source": [
    "class GradReverse(torch.autograd.Function):\n",
    "    def forward(self, x):\n",
    "        return x.view_as(x)\n",
    "    \n",
    "    def backward(self, grad_output): # 역전파 시에 gradient에 음수를 취함\n",
    "        return (grad_output * -1)    "
   ]
  },
  {
   "cell_type": "code",
   "execution_count": 10,
   "metadata": {},
   "outputs": [],
   "source": [
    "class doamin_classifier(nn.Module):\n",
    "    def __init__(self):\n",
    "        super(doamin_classifier, self).__init__()\n",
    "        self.fc1 = nn.Linear(100, 10)\n",
    "        self.fc2 = nn.Linear(10, 1) # mnist = 0, svhn = 1\n",
    "        \n",
    "    def forward(self, x):\n",
    "        x = GradReverse.apply(x)\n",
    "        x = F.leaky_relu(self.fc1(x))\n",
    "        x = self.fc2(x)\n",
    "        return torch.sigmoid(x)"
   ]
  },
  {
   "cell_type": "code",
   "execution_count": 11,
   "metadata": {},
   "outputs": [],
   "source": [
    "class label_classifier(nn.Module):\n",
    "    def __init__(self):\n",
    "        super(label_classifier, self).__init__()\n",
    "        self.fc1 = nn.Linear(100, 25)\n",
    "        self.fc2 = nn.Linear(25, 10) # class 개수 = 10개\n",
    "\n",
    "    def forward(self, x):\n",
    "        x = F.leaky_relu(self.fc1(x))\n",
    "        x = self.fc2(x)\n",
    "        return x"
   ]
  },
  {
   "cell_type": "code",
   "execution_count": 12,
   "metadata": {},
   "outputs": [],
   "source": [
    "class DANN(nn.Module):\n",
    "    def __init__(self, CNN):\n",
    "        super(DANN, self).__init__()\n",
    "        self.cnn = CNN # CNN 구조 받아오기\n",
    "        self.domain_classifier = doamin_classifier() # domain_classifier 받아오기\n",
    "        self.label_classifier = label_classifier() # label_classifier 받아오기\n",
    "        \n",
    "    def forward(self, img):\n",
    "        cnn_output = self.cnn(img) # (batch, 100)\n",
    "        domain_logits = self.domain_classifier(cnn_output) # (batch, 100) -> (batch, 1)\n",
    "        label_logits = self.label_classifier(cnn_output) # (batch, 100) -> (batch, 10)\n",
    "        return domain_logits, label_logits"
   ]
  },
  {
   "cell_type": "markdown",
   "metadata": {},
   "source": [
    "### loss 함수 선언"
   ]
  },
  {
   "cell_type": "code",
   "execution_count": 13,
   "metadata": {},
   "outputs": [],
   "source": [
    "class DANN_loss(nn.Module):\n",
    "    def __init__(self):\n",
    "        super(DANN_loss, self).__init__()\n",
    "        self.CE = nn.CrossEntropyLoss() # 0~9 분류용\n",
    "        self.BCE = nn.BCELoss() # 도메인 분류용\n",
    "        \n",
    "    # result : DANN_CNN에서 반환된 값\n",
    "    # label : 숫자 0 ~ 9에 대한 라벨\n",
    "    # domain_num : 0(mnist) or 1(svhn)\n",
    "    def forward(self, result, label, domain_num, alpha=1):\n",
    "        domain_logits, label_logits = result\n",
    "        batch_size = domain_logits.shape[0]\n",
    "        domain_target = torch.FloatTensor([domain_num] * batch_size).unsqueeze(1).to(device)\n",
    "        domain_loss = self.BCE(domain_logits, domain_target)\n",
    "        target_loss = self.CE(label_logits, label)\n",
    "        loss = domain_loss + target_loss * alpha\n",
    "        return loss"
   ]
  },
  {
   "cell_type": "markdown",
   "metadata": {},
   "source": [
    "### Training"
   ]
  },
  {
   "cell_type": "code",
   "execution_count": 14,
   "metadata": {},
   "outputs": [
    {
     "data": {
      "application/vnd.jupyter.widget-view+json": {
       "model_id": "6b5a73de990c4b42b89ed4a53f210116",
       "version_major": 2,
       "version_minor": 0
      },
      "text/plain": [
       "  0%|          | 0/938 [00:00<?, ?it/s]"
      ]
     },
     "metadata": {},
     "output_type": "display_data"
    },
    {
     "name": "stdout",
     "output_type": "stream",
     "text": [
      "Epoch : 1, Avg Loss : 3.6649\n"
     ]
    },
    {
     "data": {
      "application/vnd.jupyter.widget-view+json": {
       "model_id": "498ec742610f43dc8c974c6f4449d832",
       "version_major": 2,
       "version_minor": 0
      },
      "text/plain": [
       "  0%|          | 0/938 [00:00<?, ?it/s]"
      ]
     },
     "metadata": {},
     "output_type": "display_data"
    },
    {
     "name": "stdout",
     "output_type": "stream",
     "text": [
      "Epoch : 2, Avg Loss : 3.0013\n"
     ]
    },
    {
     "data": {
      "application/vnd.jupyter.widget-view+json": {
       "model_id": "4d7674b414d74bbda7e0be75881c16a1",
       "version_major": 2,
       "version_minor": 0
      },
      "text/plain": [
       "  0%|          | 0/938 [00:00<?, ?it/s]"
      ]
     },
     "metadata": {},
     "output_type": "display_data"
    },
    {
     "name": "stdout",
     "output_type": "stream",
     "text": [
      "Epoch : 3, Avg Loss : 2.5671\n"
     ]
    },
    {
     "data": {
      "application/vnd.jupyter.widget-view+json": {
       "model_id": "d03f8ca129c84016995bf4243fb2481a",
       "version_major": 2,
       "version_minor": 0
      },
      "text/plain": [
       "  0%|          | 0/938 [00:00<?, ?it/s]"
      ]
     },
     "metadata": {},
     "output_type": "display_data"
    },
    {
     "name": "stdout",
     "output_type": "stream",
     "text": [
      "Epoch : 4, Avg Loss : 2.2719\n"
     ]
    },
    {
     "data": {
      "application/vnd.jupyter.widget-view+json": {
       "model_id": "57aeaae68aac44ab9f57ab79a175e95e",
       "version_major": 2,
       "version_minor": 0
      },
      "text/plain": [
       "  0%|          | 0/938 [00:00<?, ?it/s]"
      ]
     },
     "metadata": {},
     "output_type": "display_data"
    },
    {
     "name": "stdout",
     "output_type": "stream",
     "text": [
      "Epoch : 5, Avg Loss : 2.1763\n"
     ]
    },
    {
     "data": {
      "application/vnd.jupyter.widget-view+json": {
       "model_id": "302a3c3601a24acabe65eb6e31bb19c0",
       "version_major": 2,
       "version_minor": 0
      },
      "text/plain": [
       "  0%|          | 0/938 [00:00<?, ?it/s]"
      ]
     },
     "metadata": {},
     "output_type": "display_data"
    },
    {
     "name": "stdout",
     "output_type": "stream",
     "text": [
      "Epoch : 6, Avg Loss : 2.1471\n"
     ]
    },
    {
     "data": {
      "application/vnd.jupyter.widget-view+json": {
       "model_id": "3c431e9c87d040ca91a2f27676e4770a",
       "version_major": 2,
       "version_minor": 0
      },
      "text/plain": [
       "  0%|          | 0/938 [00:00<?, ?it/s]"
      ]
     },
     "metadata": {},
     "output_type": "display_data"
    },
    {
     "name": "stdout",
     "output_type": "stream",
     "text": [
      "Epoch : 7, Avg Loss : 2.1574\n"
     ]
    },
    {
     "data": {
      "application/vnd.jupyter.widget-view+json": {
       "model_id": "2eaba7f515694e71a44696f626dbaac2",
       "version_major": 2,
       "version_minor": 0
      },
      "text/plain": [
       "  0%|          | 0/938 [00:00<?, ?it/s]"
      ]
     },
     "metadata": {},
     "output_type": "display_data"
    },
    {
     "name": "stdout",
     "output_type": "stream",
     "text": [
      "Epoch : 8, Avg Loss : 2.1437\n"
     ]
    },
    {
     "data": {
      "application/vnd.jupyter.widget-view+json": {
       "model_id": "d499ef077c3f4349b699bfb697431775",
       "version_major": 2,
       "version_minor": 0
      },
      "text/plain": [
       "  0%|          | 0/938 [00:00<?, ?it/s]"
      ]
     },
     "metadata": {},
     "output_type": "display_data"
    },
    {
     "name": "stdout",
     "output_type": "stream",
     "text": [
      "Epoch : 9, Avg Loss : 2.0087\n"
     ]
    },
    {
     "data": {
      "application/vnd.jupyter.widget-view+json": {
       "model_id": "61361518b3c440f8adcd54312373a6e4",
       "version_major": 2,
       "version_minor": 0
      },
      "text/plain": [
       "  0%|          | 0/938 [00:00<?, ?it/s]"
      ]
     },
     "metadata": {},
     "output_type": "display_data"
    },
    {
     "name": "stdout",
     "output_type": "stream",
     "text": [
      "Epoch : 10, Avg Loss : 2.1870\n"
     ]
    }
   ],
   "source": [
    "from torch.optim.lr_scheduler import LinearLR\n",
    "from torch.utils.data import DataLoader\n",
    "\n",
    "batch = 64\n",
    "\n",
    "# dataloader 선언\n",
    "mnist_loader = DataLoader(dataset=train_mnist, batch_size=batch, shuffle=True)\n",
    "svhn_loader = DataLoader(dataset=train_svhn, batch_size=batch, shuffle=True)\n",
    "\n",
    "my_cnn = CNN()\n",
    "model = DANN(my_cnn).to(device)\n",
    "loss_fn = DANN_loss().to(device)\n",
    "\n",
    "epochs = 10\n",
    "model.train()\n",
    "\n",
    "optimizer = torch.optim.AdamW(model.parameters(), lr=3e-4, weight_decay=0.01)\n",
    "scheduler = LinearLR(optimizer, start_factor=1.0, end_factor=0.0, total_iters=epochs * len(mnist_loader))\n",
    "\n",
    "alpha = 0.5\n",
    "\n",
    "for i in range(1, epochs + 1):\n",
    "    total_loss = 0\n",
    "    for step in tqdm(range(len(mnist_loader))):\n",
    "        # mnist, svhn에서 1 batch씩 가져오기\n",
    "        source_data = next(iter(mnist_loader))\n",
    "        target_data = next(iter(svhn_loader))\n",
    "        \n",
    "        # 각 batch 내 데이터 : 0번은 이미지 픽셀 값, 1번은 0~9 class 라벨 값\n",
    "        mnist_data = source_data[0].to(device)\n",
    "        mnist_target = source_data[1].to(device)\n",
    "        \n",
    "        svhn_data = target_data[0].to(device)\n",
    "        svhn_target = target_data[1].to(device)\n",
    "        \n",
    "        # 순전파 결과 구하기\n",
    "        source_result = model(mnist_data)\n",
    "        target_result = model(svhn_data)\n",
    "        #print(source_result[0].shape) # 0: reg_logits torch.Size([64, 1])\n",
    "        #print(source_result[1].shape) # 1: cla_logits torch.Size([64, 10])\n",
    "        #print(target_result[0].shape) # 0: reg_logits torch.Size([64, 1])\n",
    "        #print(target_result[1].shape) # 1: cla_logits torch.Size([64, 10])\n",
    "        # 순전파 결과, class_label, domain_label, alpha 순\n",
    "        source_loss = loss_fn(source_result, mnist_target, 0 , alpha = alpha)\n",
    "        target_loss = loss_fn(target_result, svhn_target, 1, alpha = alpha)\n",
    "        \n",
    "        loss = source_loss + target_loss\n",
    "        total_loss += loss.item()\n",
    "        \n",
    "        optimizer.zero_grad()\n",
    "        loss.backward()\n",
    "        optimizer.step()\n",
    "        scheduler.step()\n",
    "        \n",
    "    print('Epoch : %d, Avg Loss : %.4f'%(i, total_loss / len(mnist_loader)))"
   ]
  },
  {
   "cell_type": "markdown",
   "metadata": {},
   "source": [
    "### CLASS 분류 정확도 성능 테스트"
   ]
  },
  {
   "cell_type": "code",
   "execution_count": 15,
   "metadata": {},
   "outputs": [
    {
     "data": {
      "application/vnd.jupyter.widget-view+json": {
       "model_id": "e990a33d800e46948836d3310c020b5c",
       "version_major": 2,
       "version_minor": 0
      },
      "text/plain": [
       "  0%|          | 0/157 [00:00<?, ?it/s]"
      ]
     },
     "metadata": {},
     "output_type": "display_data"
    },
    {
     "name": "stdout",
     "output_type": "stream",
     "text": [
      "MNIST Test Acc : 100.00%\n",
      "SVHN Test Acc : 59.38%\n"
     ]
    }
   ],
   "source": [
    "batch_size = 64\n",
    "\n",
    "mnist_loader_test = DataLoader(dataset=test_mnist, batch_size=batch_size)\n",
    "svhn_loader_test = DataLoader(dataset=test_svhn, batch_size=batch_size)\n",
    "\n",
    "model.eval() # 테스트 모드로 전환\n",
    "\n",
    "m_correct = 0\n",
    "s_correct = 0\n",
    "\n",
    "for step in tqdm(range(len(mnist_loader_test))):\n",
    "    source_data = next(iter(mnist_loader_test))\n",
    "    target_data = next(iter(svhn_loader_test))\n",
    "    \n",
    "    mnist_data = source_data[0].to(device)\n",
    "    mnist_target = source_data[1].to(device)\n",
    "    \n",
    "    svhn_data = target_data[0].to(device)\n",
    "    svhn_target = target_data[1].to(device)\n",
    "    \n",
    "    # domain 분류와 관련도니 logits은 사용하지 않기에 _로 받앗 ㅓ처리\n",
    "    _, mnist_logits = model(mnist_data)\n",
    "    _, svhn_logits = model(svhn_data)\n",
    "    \n",
    "    # 정확도 산출을 위하여 정답 개수 누적\n",
    "    m_correct += torch.sum(torch.argmax(mnist_logits, 1)==mnist_target).item()\n",
    "    s_correct += torch.sum(torch.argmax(svhn_logits, 1)==svhn_target).item()\n",
    "    \n",
    "print('MNIST Test Acc : %.2f%%'%(m_correct * 100 / (len(mnist_loader_test) * batch_size)))\n",
    "print('SVHN Test Acc : %.2f%%'%(s_correct * 100 / (len(svhn_loader_test) * batch_size)))"
   ]
  },
  {
   "cell_type": "markdown",
   "metadata": {},
   "source": [
    "### Domain Embedding Space 시각화"
   ]
  },
  {
   "cell_type": "code",
   "execution_count": 16,
   "metadata": {},
   "outputs": [],
   "source": [
    "# 가장 앞 batch의 250개씩의 데이터만 샘플링\n",
    "mnist_loader = DataLoader(dataset=train_mnist, batch_size=250, shuffle=True)\n",
    "svhn_loader = DataLoader(dataset=train_svhn, batch_size=250, shuffle=True)\n",
    "\n",
    "source_data = next(iter(mnist_loader))\n",
    "target_data = next(iter(svhn_loader))\n",
    "\n",
    "mnist_data = source_data[0].to(device)\n",
    "mnist_target = source_data[1].to(device)\n",
    "\n",
    "svhn_data = target_data[0].to(device)\n",
    "svhn_target = target_data[1].to(device)\n",
    "\n",
    "# 학습된 모델의 CNN 부분만 활용 (100차원 임베딩 벡터를 받아오는 과정)\n",
    "mnist_vector = model.cnn(mnist_data)\n",
    "svhn_vector = model.cnn(svhn_data)"
   ]
  },
  {
   "cell_type": "code",
   "execution_count": 17,
   "metadata": {},
   "outputs": [],
   "source": [
    "from sklearn.manifold import TSNE\n",
    "\n",
    "df = pd.DataFrame(np.concatenate([mnist_vector.cpu().detach().numpy(), svhn_vector.cpu().detach().numpy()]))\n",
    "\n",
    "tsne_np = TSNE(n_components=2).fit_transform(df)\n",
    "tsne_df = pd.DataFrame(tsne_np, columns=['component 0', 'component 1'])"
   ]
  },
  {
   "cell_type": "code",
   "execution_count": 18,
   "metadata": {},
   "outputs": [
    {
     "data": {
      "image/png": "[encoded data removed]",
      "text/plain": [
       "<Figure size 640x480 with 1 Axes>"
      ]
     },
     "metadata": {},
     "output_type": "display_data"
    }
   ],
   "source": [
    "tsne_df_0 = tsne_df.loc[:250]\n",
    "tsne_df_1 = tsne_df.loc[250:]\n",
    "\n",
    "plt.scatter(tsne_df_0['component 0'], tsne_df_0['component 1'], color='red', label='mnist', alpha=0.5)\n",
    "plt.scatter(tsne_df_1['component 0'], tsne_df_1['component 1'], color='blue', label='svhn', alpha=0.5)\n",
    "\n",
    "plt.title('alpha = 1.0')\n",
    "plt.xlabel('component 0')\n",
    "plt.ylabel('component 1')\n",
    "plt.legend()\n",
    "plt.show()"
   ]
  },
  {
   "cell_type": "code",
   "execution_count": null,
   "metadata": {},
   "outputs": [],
   "source": []
  }
 ],
 "metadata": {
  "kernelspec": {
   "display_name": "base",
   "language": "python",
   "name": "python3"
  },
  "language_info": {
   "codemirror_mode": {
    "name": "ipython",
    "version": 3
   },
   "file_extension": ".py",
   "mimetype": "text/x-python",
   "name": "python",
   "nbconvert_exporter": "python",
   "pygments_lexer": "ipython3",
   "version": "3.10.9"
  },
  "orig_nbformat": 4
 },
 "nbformat": 4,
 "nbformat_minor": 2
}
